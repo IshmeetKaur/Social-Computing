{
 "cells": [
  {
   "cell_type": "markdown",
   "metadata": {},
   "source": [
    "# Social Computing - Summer 2017\n",
    "\n",
    "# Exercise 2 - Centrality\n",
    "Centrality is a key concept in social network analysis. It measures the importance or influence of a certain node/edge in a network. The interpretation of importance or influence, however, depends on the type of centrality and the application for which it is measured. Different types of centrality were discussed in the lecture: Degree Centrality, Closeness Centrality, Betweenness Centrality, and Eigenvector Centrality.\n",
    "In this exercise, you are going to implement different centrality algorithms."
   ]
  },
  {
   "cell_type": "markdown",
   "metadata": {},
   "source": [
    "### Introduction Problem: The Krackhardt Kite Graph\n",
    "We will use the Krackhardt Kite for the first exercise. As you know from exercise 1, the Krackhardt Kite is a simple connected graph: unweighted and undirected. The following figure illustrates the Krackhardt Kite. <p>\n",
    "\n",
    "<b>Plot the graph to make sure that all packages are correctly installed. Then calculate the degree centrality of the Krackhardt Kite Graph (just a list of 10 values - one for each node). You can use the implemented function of the igraph library. </b> <p>\n",
    "\n",
    "Optional: Look at the graph and the list with the degree centrality values. Can you identify which node has which degree centrality?\n",
    "\n",
    "<b>Important Note:</b><br>\n",
    "Remember from exercise 1: You need to install Cairo graphics library for Python to enable the igraph plotting functionality on IPython Notebook\n",
    "http://cairographics.org/pycairo/ (installation tutorial can be found on Piazza)"
   ]
  },
  {
   "cell_type": "code",
   "execution_count": null,
   "metadata": {
    "collapsed": false
   },
   "outputs": [
    {
     "name": "stdout",
     "output_type": "stream",
     "text": [
      "[4, 4, 3, 6, 3, 5, 5, 3, 2, 1]\n"
     ]
    },
    {
     "data": {
      "image/svg+xml": [
       "<?xml version=\"1.0\" encoding=\"UTF-8\"?>\n",
       "<svg xmlns=\"http://www.w3.org/2000/svg\" xmlns:xlink=\"http://www.w3.org/1999/xlink\" width=\"300pt\" height=\"300pt\" viewBox=\"0 0 300 300\" version=\"1.1\">\n",
       "<g id=\"surface2\">\n",
       "<rect x=\"0\" y=\"0\" width=\"300\" height=\"300\" style=\"fill:rgb(100%,100%,100%);fill-opacity:1;stroke:none;\"/>\n",
       "<path style=\"fill:none;stroke-width:1;stroke-linecap:butt;stroke-linejoin:miter;stroke:rgb(26.666667%,26.666667%,26.666667%);stroke-opacity:1;stroke-miterlimit:10;\" d=\"M 124.972656 280 L 240.9375 253.140625 \"/>\n",
       "<path style=\"fill:none;stroke-width:1;stroke-linecap:butt;stroke-linejoin:miter;stroke:rgb(26.666667%,26.666667%,26.666667%);stroke-opacity:1;stroke-miterlimit:10;\" d=\"M 124.972656 280 L 36.808594 260.792969 \"/>\n",
       "<path style=\"fill:none;stroke-width:1;stroke-linecap:butt;stroke-linejoin:miter;stroke:rgb(26.666667%,26.666667%,26.666667%);stroke-opacity:1;stroke-miterlimit:10;\" d=\"M 124.972656 280 L 160.492188 235.460938 \"/>\n",
       "<path style=\"fill:none;stroke-width:1;stroke-linecap:butt;stroke-linejoin:miter;stroke:rgb(26.666667%,26.666667%,26.666667%);stroke-opacity:1;stroke-miterlimit:10;\" d=\"M 124.972656 280 L 74.519531 206.753906 \"/>\n",
       "<path style=\"fill:none;stroke-width:1;stroke-linecap:butt;stroke-linejoin:miter;stroke:rgb(26.666667%,26.666667%,26.666667%);stroke-opacity:1;stroke-miterlimit:10;\" d=\"M 240.9375 253.140625 L 160.492188 235.460938 \"/>\n",
       "<path style=\"fill:none;stroke-width:1;stroke-linecap:butt;stroke-linejoin:miter;stroke:rgb(26.666667%,26.666667%,26.666667%);stroke-opacity:1;stroke-miterlimit:10;\" d=\"M 240.9375 253.140625 L 280 204.394531 \"/>\n",
       "<path style=\"fill:none;stroke-width:1;stroke-linecap:butt;stroke-linejoin:miter;stroke:rgb(26.666667%,26.666667%,26.666667%);stroke-opacity:1;stroke-miterlimit:10;\" d=\"M 240.9375 253.140625 L 186.152344 180.773438 \"/>\n",
       "<path style=\"fill:none;stroke-width:1;stroke-linecap:butt;stroke-linejoin:miter;stroke:rgb(26.666667%,26.666667%,26.666667%);stroke-opacity:1;stroke-miterlimit:10;\" d=\"M 36.808594 260.792969 L 160.492188 235.460938 \"/>\n",
       "<path style=\"fill:none;stroke-width:1;stroke-linecap:butt;stroke-linejoin:miter;stroke:rgb(26.666667%,26.666667%,26.666667%);stroke-opacity:1;stroke-miterlimit:10;\" d=\"M 36.808594 260.792969 L 74.519531 206.753906 \"/>\n",
       "<path style=\"fill:none;stroke-width:1;stroke-linecap:butt;stroke-linejoin:miter;stroke:rgb(26.666667%,26.666667%,26.666667%);stroke-opacity:1;stroke-miterlimit:10;\" d=\"M 160.492188 235.460938 L 280 204.394531 \"/>\n",
       "<path style=\"fill:none;stroke-width:1;stroke-linecap:butt;stroke-linejoin:miter;stroke:rgb(26.666667%,26.666667%,26.666667%);stroke-opacity:1;stroke-miterlimit:10;\" d=\"M 160.492188 235.460938 L 74.519531 206.753906 \"/>\n",
       "<path style=\"fill:none;stroke-width:1;stroke-linecap:butt;stroke-linejoin:miter;stroke:rgb(26.666667%,26.666667%,26.666667%);stroke-opacity:1;stroke-miterlimit:10;\" d=\"M 160.492188 235.460938 L 186.152344 180.773438 \"/>\n",
       "<path style=\"fill:none;stroke-width:1;stroke-linecap:butt;stroke-linejoin:miter;stroke:rgb(26.666667%,26.666667%,26.666667%);stroke-opacity:1;stroke-miterlimit:10;\" d=\"M 280 204.394531 L 186.152344 180.773438 \"/>\n",
       "<path style=\"fill:none;stroke-width:1;stroke-linecap:butt;stroke-linejoin:miter;stroke:rgb(26.666667%,26.666667%,26.666667%);stroke-opacity:1;stroke-miterlimit:10;\" d=\"M 74.519531 206.753906 L 186.152344 180.773438 \"/>\n",
       "<path style=\"fill:none;stroke-width:1;stroke-linecap:butt;stroke-linejoin:miter;stroke:rgb(26.666667%,26.666667%,26.666667%);stroke-opacity:1;stroke-miterlimit:10;\" d=\"M 74.519531 206.753906 L 92.101562 141.996094 \"/>\n",
       "<path style=\"fill:none;stroke-width:1;stroke-linecap:butt;stroke-linejoin:miter;stroke:rgb(26.666667%,26.666667%,26.666667%);stroke-opacity:1;stroke-miterlimit:10;\" d=\"M 186.152344 180.773438 L 92.101562 141.996094 \"/>\n",
       "<path style=\"fill:none;stroke-width:1;stroke-linecap:butt;stroke-linejoin:miter;stroke:rgb(26.666667%,26.666667%,26.666667%);stroke-opacity:1;stroke-miterlimit:10;\" d=\"M 92.101562 141.996094 L 43.9375 82.453125 \"/>\n",
       "<path style=\"fill:none;stroke-width:1;stroke-linecap:butt;stroke-linejoin:miter;stroke:rgb(26.666667%,26.666667%,26.666667%);stroke-opacity:1;stroke-miterlimit:10;\" d=\"M 43.9375 82.453125 L 20 20 \"/>\n",
       "<path style=\"fill-rule:nonzero;fill:rgb(100%,0%,0%);fill-opacity:1;stroke-width:1;stroke-linecap:butt;stroke-linejoin:miter;stroke:rgb(0%,0%,0%);stroke-opacity:1;stroke-miterlimit:10;\" d=\"M 139.972656 280 C 139.972656 288.285156 133.257812 295 124.972656 295 C 116.6875 295 109.972656 288.285156 109.972656 280 C 109.972656 271.714844 116.6875 265 124.972656 265 C 133.257812 265 139.972656 271.714844 139.972656 280 \"/>\n",
       "<path style=\"fill-rule:nonzero;fill:rgb(100%,0%,0%);fill-opacity:1;stroke-width:1;stroke-linecap:butt;stroke-linejoin:miter;stroke:rgb(0%,0%,0%);stroke-opacity:1;stroke-miterlimit:10;\" d=\"M 255.9375 253.140625 C 255.9375 261.425781 249.222656 268.140625 240.9375 268.140625 C 232.652344 268.140625 225.9375 261.425781 225.9375 253.140625 C 225.9375 244.859375 232.652344 238.140625 240.9375 238.140625 C 249.222656 238.140625 255.9375 244.859375 255.9375 253.140625 \"/>\n",
       "<path style=\"fill-rule:nonzero;fill:rgb(100%,0%,0%);fill-opacity:1;stroke-width:1;stroke-linecap:butt;stroke-linejoin:miter;stroke:rgb(0%,0%,0%);stroke-opacity:1;stroke-miterlimit:10;\" d=\"M 51.808594 260.792969 C 51.808594 269.078125 45.09375 275.792969 36.808594 275.792969 C 28.527344 275.792969 21.808594 269.078125 21.808594 260.792969 C 21.808594 252.511719 28.527344 245.792969 36.808594 245.792969 C 45.09375 245.792969 51.808594 252.511719 51.808594 260.792969 \"/>\n",
       "<path style=\"fill-rule:nonzero;fill:rgb(100%,0%,0%);fill-opacity:1;stroke-width:1;stroke-linecap:butt;stroke-linejoin:miter;stroke:rgb(0%,0%,0%);stroke-opacity:1;stroke-miterlimit:10;\" d=\"M 175.492188 235.460938 C 175.492188 243.746094 168.777344 250.460938 160.492188 250.460938 C 152.207031 250.460938 145.492188 243.746094 145.492188 235.460938 C 145.492188 227.179688 152.207031 220.460938 160.492188 220.460938 C 168.777344 220.460938 175.492188 227.179688 175.492188 235.460938 \"/>\n",
       "<path style=\"fill-rule:nonzero;fill:rgb(100%,0%,0%);fill-opacity:1;stroke-width:1;stroke-linecap:butt;stroke-linejoin:miter;stroke:rgb(0%,0%,0%);stroke-opacity:1;stroke-miterlimit:10;\" d=\"M 295 204.394531 C 295 212.679688 288.285156 219.394531 280 219.394531 C 271.714844 219.394531 265 212.679688 265 204.394531 C 265 196.109375 271.714844 189.394531 280 189.394531 C 288.285156 189.394531 295 196.109375 295 204.394531 \"/>\n",
       "<path style=\"fill-rule:nonzero;fill:rgb(100%,0%,0%);fill-opacity:1;stroke-width:1;stroke-linecap:butt;stroke-linejoin:miter;stroke:rgb(0%,0%,0%);stroke-opacity:1;stroke-miterlimit:10;\" d=\"M 89.519531 206.753906 C 89.519531 215.039062 82.804688 221.753906 74.519531 221.753906 C 66.234375 221.753906 59.519531 215.039062 59.519531 206.753906 C 59.519531 198.46875 66.234375 191.753906 74.519531 191.753906 C 82.804688 191.753906 89.519531 198.46875 89.519531 206.753906 \"/>\n",
       "<path style=\"fill-rule:nonzero;fill:rgb(100%,0%,0%);fill-opacity:1;stroke-width:1;stroke-linecap:butt;stroke-linejoin:miter;stroke:rgb(0%,0%,0%);stroke-opacity:1;stroke-miterlimit:10;\" d=\"M 201.152344 180.773438 C 201.152344 189.058594 194.433594 195.773438 186.152344 195.773438 C 177.867188 195.773438 171.152344 189.058594 171.152344 180.773438 C 171.152344 172.488281 177.867188 165.773438 186.152344 165.773438 C 194.433594 165.773438 201.152344 172.488281 201.152344 180.773438 \"/>\n",
       "<path style=\"fill-rule:nonzero;fill:rgb(100%,0%,0%);fill-opacity:1;stroke-width:1;stroke-linecap:butt;stroke-linejoin:miter;stroke:rgb(0%,0%,0%);stroke-opacity:1;stroke-miterlimit:10;\" d=\"M 107.101562 141.996094 C 107.101562 150.28125 100.386719 156.996094 92.101562 156.996094 C 83.820312 156.996094 77.101562 150.28125 77.101562 141.996094 C 77.101562 133.710938 83.820312 126.996094 92.101562 126.996094 C 100.386719 126.996094 107.101562 133.710938 107.101562 141.996094 \"/>\n",
       "<path style=\"fill-rule:nonzero;fill:rgb(100%,0%,0%);fill-opacity:1;stroke-width:1;stroke-linecap:butt;stroke-linejoin:miter;stroke:rgb(0%,0%,0%);stroke-opacity:1;stroke-miterlimit:10;\" d=\"M 58.9375 82.453125 C 58.9375 90.738281 52.222656 97.453125 43.9375 97.453125 C 35.652344 97.453125 28.9375 90.738281 28.9375 82.453125 C 28.9375 74.167969 35.652344 67.453125 43.9375 67.453125 C 52.222656 67.453125 58.9375 74.167969 58.9375 82.453125 \"/>\n",
       "<path style=\"fill-rule:nonzero;fill:rgb(100%,0%,0%);fill-opacity:1;stroke-width:1;stroke-linecap:butt;stroke-linejoin:miter;stroke:rgb(0%,0%,0%);stroke-opacity:1;stroke-miterlimit:10;\" d=\"M 35 20 C 35 28.285156 28.285156 35 20 35 C 11.714844 35 5 28.285156 5 20 C 5 11.714844 11.714844 5 20 5 C 28.285156 5 35 11.714844 35 20 \"/>\n",
       "</g>\n",
       "</svg>\n"
      ],
      "text/plain": [
       "<igraph.drawing.Plot at 0x7fb76427f0d0>"
      ]
     },
     "execution_count": 1,
     "metadata": {},
     "output_type": "execute_result"
    }
   ],
   "source": [
    "import igraph\n",
    "#Import the Graph\n",
    "krackhardt_kite = igraph.Graph.Famous('Krackhardt_Kite') # Connected, Unweighted, undirected social network\n",
    "#Formatting the Graph\n",
    "visual_style = {}\n",
    "visual_style[\"vertex_size\"] = 30\n",
    "visual_style[\"bbox\"] = (300, 300)\n",
    "visual_style[\"margin\"] = 20\n",
    "\n",
    "#TODO Calculate the degree centrality for the 10 nodes in the graph.\n",
    "Degree_Centrality = krackhardt_kite.degree()\n",
    "print(Degree_Centrality)\n",
    "\n",
    "#Plot the Graph\n",
    "igraph.plot(krackhardt_kite, **visual_style)\n",
    "# If the graph is plotted below, all libaries are correctly installed\n",
    "\n",
    "\n"
   ]
  },
  {
   "cell_type": "markdown",
   "metadata": {},
   "source": [
    "## Problem 1.1 Degree Centrality\n",
    "Now you are working with part of the data that you created over the past two weeks on the social networking platform. For this exercise you need the three files: FriendshipNetwork.graphml, FriendshipNetwork_Like.graphml, FriendshipNetwork_Comment.graphml. You can find them on Piazza. <p>\n",
    "The nodes in all of these graphs are your user profiles. The edges are the friend relationships (FriendshipNetwork.graphml), the exchanged likes (FriendshipNetwork_Like.graphml), and the comments written to others (FriendshipNetwork_Comment.graphml). <p>\n",
    "The graphs were anonymized to protect your privacy. But feel free to figure out if you can identify yourself. <p>\n",
    "\n",
    "<b>Your task in this exercise is to calculate the degree centrality of all the nodes in the three graphs. Also plot at least one of the graphs. </b><p>\n",
    "\n",
    "Degree centrality of a graph node is the number of edges (incoming and outgoing) of that node.\n",
    "Using igraph, write a Python program that calculates the degree centrality of each node in the three graphs. The output should be a list of integers (nodes with a centrality of 0 do not need to be listed, but can be). <p>\n",
    "\n",
    "It is interesting to notice that the degree centrality for the three graphs can be quite different - even though the graphs are extracted from the same social network."
   ]
  },
  {
   "cell_type": "code",
   "execution_count": null,
   "metadata": {
    "collapsed": false
   },
   "outputs": [
    {
     "name": "stdout",
     "output_type": "stream",
     "text": [
      "Friendship_Graph : \n",
      "[22, 20, 6, 7, 23, 16, 12, 8, 149, 82, 79, 17, 13, 20, 10, 4, 9, 4, 13, 20, 11, 6, 14, 7, 7, 8, 3, 22, 27, 20, 52, 4, 7, 28, 15, 10, 9, 13, 9, 7, 31, 19, 13, 22, 18, 15, 12, 6, 9, 14, 15, 23, 13, 4, 11, 132, 18, 9, 4, 27, 11, 32, 2, 23, 5, 14, 4, 4, 50, 12, 20, 6, 15, 11, 8, 3, 3, 4, 2, 2, 6, 3, 9, 5, 27, 2, 20, 11, 9, 4, 11, 6, 8, 16, 22, 8, 9, 2, 16, 9, 11, 10, 8, 11, 8, 15, 19, 5, 18, 11, 7, 3, 3, 5, 4, 21, 7, 24, 6, 47, 33, 8, 20, 7, 10, 37, 14, 4, 5, 3, 6, 19, 9, 6, 7, 3, 1, 13, 9, 7, 18, 6, 3, 14, 16, 4, 1, 13, 14, 4, 8, 10, 4, 2, 3, 3, 5, 2, 7, 7, 1, 5, 5, 6, 5, 7, 5, 9, 16, 2, 1, 5, 13, 9, 4, 7, 5, 17, 9, 2, 10, 9, 12, 4, 3, 2, 10, 11, 6, 11, 9, 10, 6, 6, 7, 3, 10, 5, 3, 5, 3, 4, 1, 3, 1, 4, 2, 3, 1, 3, 2, 8, 4, 4, 5, 3, 1, 2, 1, 2, 3, 1, 1, 7]\n",
      "Friendship_Graph_Like : \n",
      "[26, 5, 102, 27, 9, 5, 3, 3, 18, 2, 13, 2, 7, 1, 5, 10, 7, 10, 8, 9, 6, 5, 22, 21, 4, 45, 45, 23, 11, 79, 2, 11, 1, 2, 10, 3, 7, 2, 1, 6, 61, 14, 22, 1, 5, 3, 1, 5, 2, 2, 1, 6, 21, 3, 3, 16, 9, 1, 3, 6, 4, 3, 5, 22, 8, 5, 8, 17, 1, 1, 4, 4, 24, 9, 7, 13, 21, 11, 3, 3, 3, 21, 10, 3, 2, 3, 19, 1, 23, 3, 13, 2, 3, 30, 17, 1, 3, 8, 5, 6, 2, 1, 13, 17, 2, 7, 8, 18, 11, 4, 12, 7, 21, 3, 3, 4, 8, 9, 1, 16, 6, 1, 10, 5, 2, 23, 8, 6, 1, 6, 4, 4, 8, 12, 2, 1, 1, 3, 9, 2, 7, 14, 1, 10, 6, 5, 2, 1, 5, 1, 1, 14, 9, 5, 2]"
     ]
    }
   ],
   "source": [
    "from igraph import *\n",
    "\n",
    "#import your Graph here:\n",
    "#use FriendshipNetwork.graphml, FriendshipNetwork_Like.graphml, FriendshipNetwork_Comment.graphml\n",
    "\n",
    "g_friendship = Graph.Read_GraphML('FriendshipNetwork.graphml')\n",
    "g_friendship_like = Graph.Read_GraphML('FriendshipNetwork_Like.graphml')\n",
    "g_friendship_comment = Graph.Read_GraphML('FriendshipNetwork_Comment.graphml')\n",
    "\n",
    "\n",
    "#visual formatation for the Graph\n",
    "visual_style = {}\n",
    "visual_style[\"vertex_size\"] = 30\n",
    "visual_style[\"vertex_label\"] = g_friendship.vs[\"name\"]\n",
    "# replace g with your graphname!\n",
    "visual_style[\"bbox\"] = (800, 800)\n",
    "visual_style[\"margin\"] = 50\n",
    "\n",
    "\n",
    "#insert your code here\n",
    "Degree_Centrality = g_friendship.degree()\n",
    "Degree_Centrality_Like = g_friendship_like.degree()\n",
    "Degree_Centrality_Comment = g_friendship_comment.degree()\n",
    "print(\"Friendship_Graph : \" )\n",
    "print(Degree_Centrality)\n",
    "print(\"Friendship_Graph_Like : \" )\n",
    "print(Degree_Centrality_Like)\n",
    "print(\"Friendship_Graph_Comment : \" )\n",
    "print(Degree_Centrality_Comment)\n",
    "#plot one of the graphs \n",
    "\n",
    "igraph.plot(g_friendship, **visual_style)\n",
    "\n"
   ]
  },
  {
   "cell_type": "markdown",
   "metadata": {},
   "source": [
    "## Problem 1.2 Closeness Centrality\n",
    "Closeness centrality measures how close a node is to the other nodes in the graph. This is calculated via the sum of distances from that node to all the other nodes in the graph. <p>\n",
    "<b>Write a python program that computes the closeness centrality for each node in the Like-Graph </b> (FriendshipNetwork_Like.graphml) from our social network! The output should be a list where each item contains the value of the closeness centrality of a node.\n",
    "\n",
    "<p><b>Remember:</b></p>\n",
    "\n",
    "<li>Calculating the shortest paths is a common problem, maybe there is a pre-defined function for that?</li>\n",
    "<li>The formula for the calculation can be found in the documentation or on Wikipedia</li>\n",
    "<li>You are <b>not allowed</b> to use the pre-defined function closeness(), but you can use it as in inspiration</li>\n",
    "<li>The edges of the Like-Graph have weights: the number of likes that were sent from one node to the other.</li>\n",
    "<li>When you calculate the shortest path you need to take the weights of the edges into account </li>\n",
    "<li>You can print the node namelist with print <b>YOURGRAPHNAME.vs[\"name\"]</b></li>\n",
    "<li>You can print the edge list with <b>print YOURGRAPHNAME</b></li>\n"
   ]
  },
  {
   "cell_type": "code",
   "execution_count": null,
   "metadata": {
    "collapsed": false
   },
   "outputs": [],
   "source": [
    "from igraph import *\n",
    "from __future__ import division\n",
    "#use FriendshipNetwork_Like.graphml\n",
    "g = Graph.Read_GraphML('FriendshipNetwork_Like.graphml')\n",
    "\n",
    "#visual style for the Graph\n",
    "visual_style = {}\n",
    "visual_style[\"vertex_size\"] = 30\n",
    "visual_style[\"vertex_label\"] = g.vs[\"name\"]\n",
    "# replace g with your graphname!\n",
    "visual_style[\"bbox\"] = (800, 800)\n",
    "visual_style[\"margin\"] = 50\n",
    "\n",
    "#TODO: Import graph and define Graph Style\n",
    "# print((g.closeness(weights=g.es[\"weight\"])))\n",
    "shortest_path = list()\n",
    "total_count = 0\n",
    "closeness = []\n",
    "for i in range(g.vcount()):\n",
    "    #TODO: Calculate all shortest paths of each node\n",
    "    shortest_path.append((g.get_shortest_paths(i, weights=g.es[\"weight\"], mode=ALL,output=\"vpath\")))\n",
    "    for j in (g.get_shortest_paths(i, weights=\"weight\", mode=ALL,output=\"vpath\")):\n",
    "        total_count += len(j)-1\n",
    "    closeness.append((g.vcount()-1)/total_count)\n",
    "    total_count = 0\n",
    "\n",
    "#TODO: Calculate a list where each item contains the value of the closeness centrality of a node\n",
    "print(closeness)"
   ]
  },
  {
   "cell_type": "markdown",
   "metadata": {},
   "source": [
    "## Problem 1.3 Betweenness centrality\n",
    "\n",
    "Betweenness centrality measures centrality based on shortest paths. For every pair of vertices in a graph there exists a shortest path between the vertices such that either the number of edges that the path passes through (for undirected graphs) or the sum of the weights of the edges (for directed graphs) is minimized. <p>\n",
    "Vertices with high betweenness may have considerable influence within a network by virtue of their control over information passing between others. <p>\n",
    "\n",
    "This time you are working with the FriendshipNetwork.graphml. <p>\n",
    "\n",
    "<b>Calculate the betweenness centrality with the help of the pre-defined functios of the igraph library. Interpret the resulting values based on two exemplary nodes. </b> To do that pick two nodes and explain how their betweenness centrality links to the graph structure. Name the two nodes that you discussed (and their betweenness centrality). (Do not write more than 5 sentences)\n",
    "\n",
    "<p><b>Remember:</b></p>\n",
    "\n",
    "<li>You can print the node namelist with print <b>YOURGRAPHNAME.vs[\"name\"]</b></li>\n"
   ]
  },
  {
   "cell_type": "code",
   "execution_count": null,
   "metadata": {
    "collapsed": false,
    "scrolled": true
   },
   "outputs": [],
   "source": [
    "from igraph import *\n",
    "\n",
    "# use FriendshipNetwork.graphml\n",
    "g1 = Graph.Read_GraphML('FriendshipNetwork.graphml')\n",
    "\n",
    "#visual formatation for the Graph\n",
    "visual_style = {}\n",
    "visual_style[\"vertex_size\"] = 30\n",
    "visual_style[\"vertex_label\"] = g1.vs[\"name\"]\n",
    "# replace g1 with your graphname!\n",
    "visual_style[\"bbox\"] = (800, 800)\n",
    "visual_style[\"margin\"] = 50\n",
    "\n",
    "#import graph\n",
    "dict = {}\n",
    "nodeNameList = g1.vs[\"name\"]\n",
    "for i in range(len(nodeNameList)):\n",
    "    dict[nodeNameList[i]]= g1.betweenness()[i]\n",
    "# Calculates or estimates the betweenness of vertices in a graph\n",
    "betweeness = g1.betweenness()\n",
    "print(betweeness)\n",
    "print(g.betweenness(vertices=[0,8]))\n"
   ]
  },
  {
   "cell_type": "markdown",
   "metadata": {},
   "source": [
    "The betweenness centrality measures the number of times the shortest path between two nodes(like vertices (0,8) corresponding to the name (115,143) goes through the investigated node, divided by the total number of shortest paths between the two nodes\n",
    "The betweeness centrality of vertex\n",
    "\n",
    "▪ Node 143 has a high control of information flow as compared to node 115,indicating it is a node to which more nodes are connected as compare to the other node.\n",
    "\n",
    "▪ Node 115 has a low value of information flow indicating lesser nodes are connected to it."
   ]
  },
  {
   "cell_type": "code",
   "execution_count": null,
   "metadata": {
    "collapsed": true
   },
   "outputs": [],
   "source": []
  }
 ],
 "metadata": {
  "anaconda-cloud": {},
  "kernelspec": {
   "display_name": "Python 2",
   "language": "python",
   "name": "python2"
  },
  "language_info": {
   "codemirror_mode": {
    "name": "ipython",
    "version": 2
   },
   "file_extension": ".py",
   "mimetype": "text/x-python",
   "name": "python",
   "nbconvert_exporter": "python",
   "pygments_lexer": "ipython2",
   "version": "2.7.13"
  }
 },
 "nbformat": 4,
 "nbformat_minor": 0
}
